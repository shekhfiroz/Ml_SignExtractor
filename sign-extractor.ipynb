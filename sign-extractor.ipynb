{
 "cells": [
  {
   "cell_type": "code",
   "execution_count": 1,
   "metadata": {},
   "outputs": [
    {
     "name": "stdout",
     "output_type": "stream",
     "text": [
      "Collecting package metadata (repodata.json): done\n",
      "Solving environment: done\n",
      "\n",
      "# All requested packages already installed.\n",
      "\n",
      "\n",
      "Note: you may need to restart the kernel to use updated packages.\n"
     ]
    }
   ],
   "source": [
    "# to instll scikit for image procesing \n",
    "conda install -c conda-forge scikit-image"
   ]
  },
  {
   "cell_type": "code",
   "execution_count": 51,
   "metadata": {},
   "outputs": [],
   "source": [
    "import cv2\n",
    "import matplotlib.pyplot as plt\n",
    "from skimage import measure, morphology\n",
    "from skimage.color import label2rgb\n",
    "from skimage.measure import regionprops"
   ]
  },
  {
   "cell_type": "code",
   "execution_count": 52,
   "metadata": {},
   "outputs": [
    {
     "name": "stdout",
     "output_type": "stream",
     "text": [
      "/home/shekh/Desktop/MachineLeaning/signature-extracter\n"
     ]
    }
   ],
   "source": [
    "import os\n",
    "path=os.getcwd()\n",
    "print(path)"
   ]
  },
  {
   "cell_type": "code",
   "execution_count": 64,
   "metadata": {},
   "outputs": [],
   "source": [
    "# read the input image\n",
    "img = cv2.imread('/home/shekh/Desktop/MachineLeaning/signature-extracter/input/in2.png', 0)\n"
   ]
  },
  {
   "cell_type": "code",
   "execution_count": 65,
   "metadata": {},
   "outputs": [
    {
     "name": "stdout",
     "output_type": "stream",
     "text": [
      "[[255 255 255 ... 255 255 255]\n",
      " [255 255 255 ... 255 255 255]\n",
      " [255 255 255 ... 255 255 255]\n",
      " ...\n",
      " [255 255 255 ...   0   1   1]\n",
      " [255 255 255 ... 141 141 141]\n",
      " [255 255 255 ... 255 255 255]]\n"
     ]
    }
   ],
   "source": [
    "print(img)"
   ]
  },
  {
   "cell_type": "code",
   "execution_count": 66,
   "metadata": {},
   "outputs": [],
   "source": [
    "img = cv2.threshold(img, 127, 255, cv2.THRESH_BINARY)[1]  # ensure binary"
   ]
  },
  {
   "cell_type": "code",
   "execution_count": 67,
   "metadata": {},
   "outputs": [
    {
     "name": "stdout",
     "output_type": "stream",
     "text": [
      "first image is [[255 255 255 ... 255 255 255]\n",
      " [255 255 255 ... 255 255 255]\n",
      " [255 255 255 ... 255 255 255]\n",
      " ...\n",
      " [255 255 255 ...   0   0   0]\n",
      " [255 255 255 ... 255 255 255]\n",
      " [255 255 255 ... 255 255 255]] and second image is [[255 255 255 ... 255 255 255]\n",
      " [255 255 255 ... 255 255 255]\n",
      " [255 255 255 ... 255 255 255]\n",
      " ...\n",
      " [255 255 255 ...   0   0   0]\n",
      " [255 255 255 ... 255 255 255]\n",
      " [255 255 255 ... 255 255 255]]\n"
     ]
    }
   ],
   "source": [
    "print(\"first image is {} and second image is {}\".format(img,img))"
   ]
  },
  {
   "cell_type": "code",
   "execution_count": 68,
   "metadata": {},
   "outputs": [],
   "source": [
    "# connected component analysis by scikit-learn framework\n",
    "blobs = img > img.mean()\n",
    "blobs_labels = measure.label(blobs, background=1)\n"
   ]
  },
  {
   "cell_type": "code",
   "execution_count": 69,
   "metadata": {},
   "outputs": [
    {
     "data": {
      "image/png": "[encoded data removed]",
      "text/plain": [
       "<Figure size 720x432 with 1 Axes>"
      ]
     },
     "metadata": {
      "needs_background": "light"
     },
     "output_type": "display_data"
    }
   ],
   "source": [
    "image_label_overlay = label2rgb(blobs_labels, image=img)\n",
    "\n",
    "fig, ax = plt.subplots(figsize=(10, 6))"
   ]
  },
  {
   "cell_type": "code",
   "execution_count": 70,
   "metadata": {},
   "outputs": [
    {
     "data": {
      "text/plain": [
       "<Figure size 432x288 with 0 Axes>"
      ]
     },
     "metadata": {},
     "output_type": "display_data"
    }
   ],
   "source": [
    "# plot the connected components (for debugging)\n",
    "ax.imshow(image_label_overlay)\n",
    "ax.set_axis_off()\n",
    "plt.tight_layout()\n",
    "plt.show()\n"
   ]
  },
  {
   "cell_type": "code",
   "execution_count": 71,
   "metadata": {},
   "outputs": [
    {
     "name": "stdout",
     "output_type": "stream",
     "text": [
      "the_biggest_component: 1644\n",
      "average: 37.65489404641776\n",
      "a4_constant: 212.06813704291\n"
     ]
    },
    {
     "data": {
      "text/plain": [
       "True"
      ]
     },
     "execution_count": 71,
     "metadata": {},
     "output_type": "execute_result"
    }
   ],
   "source": [
    "the_biggest_component = 0\n",
    "total_area = 0\n",
    "counter = 0\n",
    "average = 0.0\n",
    "for region in regionprops(blobs_labels):\n",
    "    if (region.area > 10):\n",
    "        total_area = total_area + region.area\n",
    "        counter = counter + 1\n",
    "    # print region.area # (for debugging)\n",
    "    # take regions with large enough areas\n",
    "    if (region.area >= 250):\n",
    "        if (region.area > the_biggest_component):\n",
    "            the_biggest_component = region.area\n",
    "\n",
    "average = (total_area/counter)\n",
    "print(\"the_biggest_component: \" + str(the_biggest_component))\n",
    "print(\"average: \" + str(average))\n",
    "\n",
    "# experimental-based ratio calculation, modify it for your cases\n",
    "# a4_constant is used as a threshold value to remove connected pixels\n",
    "# are smaller than a4_constant for A4 size scanned documents\n",
    "a4_constant = ((average/84.0)*250.0)+100\n",
    "print(\"a4_constant: \" + str(a4_constant))\n",
    "\n",
    "# remove the connected pixels are smaller than a4_constant\n",
    "b = morphology.remove_small_objects(blobs_labels, a4_constant)\n",
    "# save the the pre-version which is the image is labelled with colors\n",
    "# as considering connected components\n",
    "plt.imsave('pre_version.png', b)\n",
    "\n",
    "# read the pre-version\n",
    "img = cv2.imread('pre_version.png', 0)\n",
    "# ensure binary\n",
    "img = cv2.threshold(img, 0, 255, cv2.THRESH_BINARY_INV | cv2.THRESH_OTSU)[1]\n",
    "# save the the result\n",
    "cv2.imwrite(\"/home/shekh/Desktop/MachineLeaning/signature-extracter/output/output.jpeg\", img)"
   ]
  },
  {
   "cell_type": "code",
   "execution_count": null,
   "metadata": {},
   "outputs": [],
   "source": []
  },
  {
   "cell_type": "code",
   "execution_count": null,
   "metadata": {},
   "outputs": [],
   "source": []
  },
  {
   "cell_type": "code",
   "execution_count": null,
   "metadata": {},
   "outputs": [],
   "source": []
  },
  {
   "cell_type": "code",
   "execution_count": null,
   "metadata": {},
   "outputs": [],
   "source": []
  }
 ],
 "metadata": {
  "kernelspec": {
   "display_name": "Python 3",
   "language": "python",
   "name": "python3"
  },
  "language_info": {
   "codemirror_mode": {
    "name": "ipython",
    "version": 3
   },
   "file_extension": ".py",
   "mimetype": "text/x-python",
   "name": "python",
   "nbconvert_exporter": "python",
   "pygments_lexer": "ipython3",
   "version": "3.7.3"
  }
 },
 "nbformat": 4,
 "nbformat_minor": 2
}
